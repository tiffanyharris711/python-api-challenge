{
 "cells": [
  {
   "cell_type": "code",
   "execution_count": 10,
   "metadata": {},
   "outputs": [],
   "source": [
    "#import dependencies\n",
    "\n",
    "import requests\n",
    "import json\n",
    "import matplotlib as plt\n",
    "import pandas as pd\n",
    "import csv\n",
    "import random as rand\n",
    "from citipy import citipy\n",
    "from config import api_key"
   ]
  },
  {
   "cell_type": "code",
   "execution_count": 11,
   "metadata": {},
   "outputs": [
    {
     "data": {
      "text/plain": [
       "'dallas'"
      ]
     },
     "execution_count": 11,
     "metadata": {},
     "output_type": "execute_result"
    }
   ],
   "source": [
    "city = citipy.nearest_city(33.923611, -84.840833)\n",
    "city.city_name"
   ]
  },
  {
   "cell_type": "code",
   "execution_count": 56,
   "metadata": {},
   "outputs": [
    {
     "name": "stdout",
     "output_type": "stream",
     "text": [
      "['cheyenne', 'el dorado', 'red bluff', 'elk grove village', 'ontario']\n"
     ]
    }
   ],
   "source": [
    "city = []\n",
    "\n",
    "for i in range(5):\n",
    "    random_lat = rand.randrange(25, 45)\n",
    "    random_long = rand.randrange(-125, -70)\n",
    "    city.append(citipy.nearest_city(random_lat, random_long).city_name)\n",
    "\n",
    "print(city)"
   ]
  },
  {
   "cell_type": "code",
   "execution_count": 54,
   "metadata": {},
   "outputs": [
    {
     "name": "stdout",
     "output_type": "stream",
     "text": [
      "{\n",
      "    \"base\": \"stations\",\n",
      "    \"clouds\": {\n",
      "        \"all\": 75\n",
      "    },\n",
      "    \"cod\": 200,\n",
      "    \"coord\": {\n",
      "        \"lat\": 44.4908,\n",
      "        \"lon\": -103.8594\n",
      "    },\n",
      "    \"dt\": 1612714579,\n",
      "    \"id\": 5769288,\n",
      "    \"main\": {\n",
      "        \"feels_like\": -10.34,\n",
      "        \"humidity\": 78,\n",
      "        \"pressure\": 1010,\n",
      "        \"temp\": -0.58,\n",
      "        \"temp_max\": 3.99,\n",
      "        \"temp_min\": -2.2\n",
      "    },\n",
      "    \"name\": \"Spearfish\",\n",
      "    \"sys\": {\n",
      "        \"country\": \"US\",\n",
      "        \"id\": 5898,\n",
      "        \"sunrise\": 1612706781,\n",
      "        \"sunset\": 1612743175,\n",
      "        \"type\": 1\n",
      "    },\n",
      "    \"timezone\": -25200,\n",
      "    \"visibility\": 2012,\n",
      "    \"weather\": [\n",
      "        {\n",
      "            \"description\": \"haze\",\n",
      "            \"icon\": \"50d\",\n",
      "            \"id\": 721,\n",
      "            \"main\": \"Haze\"\n",
      "        }\n",
      "    ],\n",
      "    \"wind\": {\n",
      "        \"deg\": 30,\n",
      "        \"speed\": 5.75\n",
      "    }\n",
      "}\n"
     ]
    }
   ],
   "source": [
    "# Save config information.\n",
    "url = \"http://api.openweathermap.org/data/2.5/weather?\"\n",
    "units = \"imperial\"\n",
    "\n",
    "# Build partial query URL\n",
    "query_url = f\"{url}appid={api_key}&units={units}&q={city}\"\n",
    "\n",
    "# Get weather data\n",
    "weather_response = requests.get(query_url)\n",
    "weather_json = weather_response.json()\n",
    "\n",
    "print(json.dumps(weather_json,indent=4,sort_keys=True))"
   ]
  },
  {
   "cell_type": "code",
   "execution_count": null,
   "metadata": {},
   "outputs": [],
   "source": [
    "# Get temperature from JSON response\n",
    "temperature = weather_json[\"main\"][\"temp\"]\n",
    "humidity = weather_json[\"main\"][\"humidity\"]\n",
    "cloudiness = weather_json[\"clouds\"][\"all\"]\n",
    "wind_speed = weather_json[\"wind\"][\"speed\"]\n",
    "lat = weather_json[\"coord\"][\"lat\"]\n",
    "\n",
    "print(temperature, humidity, cloudiness, wind_speed, lat)"
   ]
  },
  {
   "cell_type": "code",
   "execution_count": null,
   "metadata": {},
   "outputs": [],
   "source": [
    "#The first requirement is to create a series of scatter plots to showcase the following relationships. \n",
    "#After each plot, add a sentence or two explaining what the code is analyzing.\n",
    "\n",
    "#Temperature (F) vs. Latitude\n",
    "#Humidity (%) vs. Latitude\n",
    "#Cloudiness (%) vs. Latitude\n",
    "#Wind Speed (mph) vs. Latitude"
   ]
  },
  {
   "cell_type": "code",
   "execution_count": null,
   "metadata": {},
   "outputs": [],
   "source": []
  },
  {
   "cell_type": "code",
   "execution_count": null,
   "metadata": {},
   "outputs": [],
   "source": [
    "#The second requirement is to run linear regression on each relationship. \n",
    "#This time, separate the plots into Northern Hemisphere (greater than or equal to 0 degrees latitude) \n",
    "#and Southern Hemisphere (less than 0 degrees latitude).\n",
    "#After each pair of plots, take the time to explain what the linear regression is modeling. \n",
    "#For example, describe any relationships you notice and any other analysis you may have.\n",
    "\n",
    "#Northern Hemisphere - Temperature (F) vs. Latitude\n",
    "#Southern Hemisphere - Temperature (F) vs. Latitude\n",
    "#Northern Hemisphere - Humidity (%) vs. Latitude\n",
    "#Southern Hemisphere - Humidity (%) vs. Latitude\n",
    "#Northern Hemisphere - Cloudiness (%) vs. Latitude\n",
    "#Southern Hemisphere - Cloudiness (%) vs. Latitude\n",
    "#Northern Hemisphere - Wind Speed (mph) vs. Latitude\n",
    "#Southern Hemisphere - Wind Speed (mph) vs. Latitude"
   ]
  },
  {
   "cell_type": "code",
   "execution_count": null,
   "metadata": {},
   "outputs": [],
   "source": []
  },
  {
   "cell_type": "code",
   "execution_count": null,
   "metadata": {},
   "outputs": [],
   "source": [
    "#Your final notebook must:\n",
    "\n",
    "#Randomly select at least 500 unique (non-repeat) cities based on latitude and longitude.\n",
    "#Perform a weather check on each of the cities using a series of successive API calls.\n",
    "#Include a print log of each city as it's being processed with the city number and city name.\n",
    "#Save a CSV of all retrieved data and a PNG image for each scatter plot."
   ]
  }
 ],
 "metadata": {
  "kernelspec": {
   "display_name": "Python 3",
   "language": "python",
   "name": "python3"
  },
  "language_info": {
   "codemirror_mode": {
    "name": "ipython",
    "version": 3
   },
   "file_extension": ".py",
   "mimetype": "text/x-python",
   "name": "python",
   "nbconvert_exporter": "python",
   "pygments_lexer": "ipython3",
   "version": "3.8.5"
  }
 },
 "nbformat": 4,
 "nbformat_minor": 4
}
